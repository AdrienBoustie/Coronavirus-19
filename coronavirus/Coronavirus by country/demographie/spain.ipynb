{
 "cells": [
  {
   "cell_type": "code",
   "execution_count": 1,
   "metadata": {},
   "outputs": [],
   "source": [
    "import pandas as pd"
   ]
  },
  {
   "cell_type": "code",
   "execution_count": 15,
   "metadata": {},
   "outputs": [],
   "source": [
    "data=pd.read_csv(\"spain.csv\")\n",
    "data.loc[:,\"total\"]=data.loc[:,\"Total\"]*1000+data.loc[:,\"Total2\"]\n",
    "data=data[[\"Age group\",\"total\"]]\n",
    "data1=data.loc[0:9,\"total\"]\n",
    "data2=data.loc[10:19,\"total\"]\n",
    "data3=data.loc[20:29,\"total\"]\n",
    "data4=data.loc[30:39,\"total\"]\n",
    "data5=data.loc[40:49,\"total\"]\n",
    "data6=data.loc[50:59,\"total\"]\n",
    "data7=data.loc[60:69,\"total\"]\n",
    "data8=data.loc[70:79,\"total\"]\n",
    "data9=data.loc[80:,\"total\"]\n",
    "data2.sum()\n",
    "M=pd.DataFrame([data1.sum(),data2.sum(),data3.sum(),data4.sum(),data5.sum(),data6.sum(),data7.sum(),data8.sum(),data9.sum()],index=[\"0-9\",\"10-19\",\"20-29\",\"30-39\",\"40-49\",\"50-59\",'60-69',\"70-79\",'80+'])"
   ]
  },
  {
   "cell_type": "code",
   "execution_count": 19,
   "metadata": {},
   "outputs": [
    {
     "data": {
      "text/html": [
       "<div>\n",
       "<style scoped>\n",
       "    .dataframe tbody tr th:only-of-type {\n",
       "        vertical-align: middle;\n",
       "    }\n",
       "\n",
       "    .dataframe tbody tr th {\n",
       "        vertical-align: top;\n",
       "    }\n",
       "\n",
       "    .dataframe thead th {\n",
       "        text-align: right;\n",
       "    }\n",
       "</style>\n",
       "<table border=\"1\" class=\"dataframe\">\n",
       "  <thead>\n",
       "    <tr style=\"text-align: right;\">\n",
       "      <th></th>\n",
       "      <th>0</th>\n",
       "    </tr>\n",
       "  </thead>\n",
       "  <tbody>\n",
       "    <tr>\n",
       "      <td>0-9</td>\n",
       "      <td>4370857</td>\n",
       "    </tr>\n",
       "    <tr>\n",
       "      <td>10-19</td>\n",
       "      <td>4883448</td>\n",
       "    </tr>\n",
       "    <tr>\n",
       "      <td>20-29</td>\n",
       "      <td>4847936</td>\n",
       "    </tr>\n",
       "    <tr>\n",
       "      <td>30-39</td>\n",
       "      <td>6167590</td>\n",
       "    </tr>\n",
       "    <tr>\n",
       "      <td>40-49</td>\n",
       "      <td>7813174</td>\n",
       "    </tr>\n",
       "    <tr>\n",
       "      <td>50-59</td>\n",
       "      <td>6974009</td>\n",
       "    </tr>\n",
       "    <tr>\n",
       "      <td>60-69</td>\n",
       "      <td>5281874</td>\n",
       "    </tr>\n",
       "    <tr>\n",
       "      <td>70-79</td>\n",
       "      <td>3900551</td>\n",
       "    </tr>\n",
       "    <tr>\n",
       "      <td>80+</td>\n",
       "      <td>2860959</td>\n",
       "    </tr>\n",
       "  </tbody>\n",
       "</table>\n",
       "</div>"
      ],
      "text/plain": [
       "             0\n",
       "0-9    4370857\n",
       "10-19  4883448\n",
       "20-29  4847936\n",
       "30-39  6167590\n",
       "40-49  7813174\n",
       "50-59  6974009\n",
       "60-69  5281874\n",
       "70-79  3900551\n",
       "80+    2860959"
      ]
     },
     "execution_count": 19,
     "metadata": {},
     "output_type": "execute_result"
    }
   ],
   "source": [
    "M"
   ]
  },
  {
   "cell_type": "code",
   "execution_count": 26,
   "metadata": {},
   "outputs": [
    {
     "data": {
      "text/html": [
       "<div>\n",
       "<style scoped>\n",
       "    .dataframe tbody tr th:only-of-type {\n",
       "        vertical-align: middle;\n",
       "    }\n",
       "\n",
       "    .dataframe tbody tr th {\n",
       "        vertical-align: top;\n",
       "    }\n",
       "\n",
       "    .dataframe thead th {\n",
       "        text-align: right;\n",
       "    }\n",
       "</style>\n",
       "<table border=\"1\" class=\"dataframe\">\n",
       "  <thead>\n",
       "    <tr style=\"text-align: right;\">\n",
       "      <th></th>\n",
       "      <th>0</th>\n",
       "      <th>population distribution</th>\n",
       "    </tr>\n",
       "  </thead>\n",
       "  <tbody>\n",
       "    <tr>\n",
       "      <td>0-9</td>\n",
       "      <td>4370857</td>\n",
       "      <td>9.279873</td>\n",
       "    </tr>\n",
       "    <tr>\n",
       "      <td>10-19</td>\n",
       "      <td>4883448</td>\n",
       "      <td>10.368167</td>\n",
       "    </tr>\n",
       "    <tr>\n",
       "      <td>20-29</td>\n",
       "      <td>4847936</td>\n",
       "      <td>10.292771</td>\n",
       "    </tr>\n",
       "    <tr>\n",
       "      <td>30-39</td>\n",
       "      <td>6167590</td>\n",
       "      <td>13.094560</td>\n",
       "    </tr>\n",
       "    <tr>\n",
       "      <td>40-49</td>\n",
       "      <td>7813174</td>\n",
       "      <td>16.588340</td>\n",
       "    </tr>\n",
       "    <tr>\n",
       "      <td>50-59</td>\n",
       "      <td>6974009</td>\n",
       "      <td>14.806688</td>\n",
       "    </tr>\n",
       "    <tr>\n",
       "      <td>60-69</td>\n",
       "      <td>5281874</td>\n",
       "      <td>11.214075</td>\n",
       "    </tr>\n",
       "    <tr>\n",
       "      <td>70-79</td>\n",
       "      <td>3900551</td>\n",
       "      <td>8.281355</td>\n",
       "    </tr>\n",
       "    <tr>\n",
       "      <td>80+</td>\n",
       "      <td>2860959</td>\n",
       "      <td>6.074172</td>\n",
       "    </tr>\n",
       "  </tbody>\n",
       "</table>\n",
       "</div>"
      ],
      "text/plain": [
       "             0  population distribution\n",
       "0-9    4370857                 9.279873\n",
       "10-19  4883448                10.368167\n",
       "20-29  4847936                10.292771\n",
       "30-39  6167590                13.094560\n",
       "40-49  7813174                16.588340\n",
       "50-59  6974009                14.806688\n",
       "60-69  5281874                11.214075\n",
       "70-79  3900551                 8.281355\n",
       "80+    2860959                 6.074172"
      ]
     },
     "execution_count": 26,
     "metadata": {},
     "output_type": "execute_result"
    }
   ],
   "source": [
    "M.loc[:,\"population distribution\"]=M.loc[:,0]/M.sum()[0]*100\n",
    "M"
   ]
  },
  {
   "cell_type": "code",
   "execution_count": 27,
   "metadata": {},
   "outputs": [],
   "source": [
    "M.to_csv(\"spain_clean.csv\")"
   ]
  },
  {
   "cell_type": "code",
   "execution_count": 24,
   "metadata": {},
   "outputs": [
    {
     "data": {
      "text/plain": [
       "47100398.0"
      ]
     },
     "execution_count": 24,
     "metadata": {},
     "output_type": "execute_result"
    }
   ],
   "source": []
  },
  {
   "cell_type": "code",
   "execution_count": null,
   "metadata": {},
   "outputs": [],
   "source": []
  }
 ],
 "metadata": {
  "kernelspec": {
   "display_name": "Python 3",
   "language": "python",
   "name": "python3"
  },
  "language_info": {
   "codemirror_mode": {
    "name": "ipython",
    "version": 3
   },
   "file_extension": ".py",
   "mimetype": "text/x-python",
   "name": "python",
   "nbconvert_exporter": "python",
   "pygments_lexer": "ipython3",
   "version": "3.7.4"
  }
 },
 "nbformat": 4,
 "nbformat_minor": 2
}
